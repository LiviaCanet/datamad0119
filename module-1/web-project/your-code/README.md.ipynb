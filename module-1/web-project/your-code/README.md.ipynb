{
 "cells": [
  {
   "cell_type": "markdown",
   "metadata": {},
   "source": [
    "# Recipe Machine\n",
    "\n",
    "#### Os presento mi Recipe Machine sacada de una API y haciendo web scraping \n",
    "\n",
    "He utilizado la API:\n",
    "'http://www.recipepuppy.com/api/'\n",
    "\n",
    "He hecho web scraping a:\n",
    "'https://deliveroo.es/es/'\n",
    "'https://www.veganfoodandliving.com/'\n",
    "\n",
    "\n",
    "#### El output\n",
    "\n",
    "El output es un DataFrame de Pandas convertido a .csv \n",
    "\n",
    "Se trata de una tabla con 1.200 datos y 4 columnas: Recipe, Ingredients, Link to the whole recipe y Suitable for Vegans. Esta última columna devuelve True si el plato lo puede tomar un vegano. \n",
    "La idea en un principio era que hubiese una columna más: Restaurants where you can try something similar. Esta te decía una lista de restaurantes (sacados de deliveroo) donde podías tomar un plato parecido al de la receta. Lo tenía casi casi, pero no he logrado unir los datos del web scraping al DataFrame con la condición. He dejado en el archivo de jupyter las fórmulas entre comillas para retomarlas en algún momento \n",
    "\n"
   ]
  },
  {
   "cell_type": "code",
   "execution_count": null,
   "metadata": {},
   "outputs": [],
   "source": []
  }
 ],
 "metadata": {
  "kernelspec": {
   "display_name": "Python 3",
   "language": "python",
   "name": "python3"
  },
  "language_info": {
   "codemirror_mode": {
    "name": "ipython",
    "version": 3
   },
   "file_extension": ".py",
   "mimetype": "text/x-python",
   "name": "python",
   "nbconvert_exporter": "python",
   "pygments_lexer": "ipython3",
   "version": "3.7.2"
  }
 },
 "nbformat": 4,
 "nbformat_minor": 2
}
