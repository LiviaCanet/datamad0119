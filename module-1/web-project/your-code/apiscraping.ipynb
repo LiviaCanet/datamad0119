{
 "cells": [
  {
   "cell_type": "code",
   "execution_count": 1,
   "metadata": {},
   "outputs": [],
   "source": [
    "import json\n",
    "import requests\n",
    "import pandas as pd\n"
   ]
  },
  {
   "cell_type": "code",
   "execution_count": 2,
   "metadata": {},
   "outputs": [],
   "source": [
    "#Tortilla\n",
    "\n",
    "url = 'http://www.recipepuppy.com/api/?i=onions,garlic&q=omelet&p=3 '\n",
    "\n",
    "response = requests.get(url)\n",
    "tortilla = response.json()\n",
    "recetas_tortilla = tortilla['results']\n",
    "recipemachine1 = pd.DataFrame(recetas_tortilla)"
   ]
  },
  {
   "cell_type": "code",
   "execution_count": 3,
   "metadata": {},
   "outputs": [],
   "source": [
    "#Chocolate\n",
    "\n",
    "url = 'http://www.recipepuppy.com/api/?i=sugar&q=chocolate'\n",
    "\n",
    "response = requests.get(url)\n",
    "chocolate = response.json()\n",
    "recetas_chocolate = chocolate['results']\n",
    "recipemachine2 = pd.DataFrame(recetas_chocolate)"
   ]
  },
  {
   "cell_type": "code",
   "execution_count": 4,
   "metadata": {},
   "outputs": [],
   "source": [
    "#Tomatoe\n",
    "\n",
    "url = 'http://www.recipepuppy.com/api/?&q=tomatoe'\n",
    "\n",
    "response = requests.get(url)\n",
    "tomatoe = response.json()\n",
    "recetas_tomatoe = tomatoe['results']\n",
    "recipemachine3 = pd.DataFrame(recetas_tomatoe)"
   ]
  },
  {
   "cell_type": "code",
   "execution_count": 5,
   "metadata": {},
   "outputs": [],
   "source": [
    "#Leche\n",
    "\n",
    "url = 'http://www.recipepuppy.com/api/?&q=milk'\n",
    "\n",
    "response = requests.get(url)\n",
    "milk = response.json()\n",
    "recetas_milk = milk['results']\n",
    "recipemachine4 = pd.DataFrame(recetas_milk)"
   ]
  },
  {
   "cell_type": "code",
   "execution_count": 6,
   "metadata": {},
   "outputs": [],
   "source": [
    "#Salad\n",
    "\n",
    "url = 'http://www.recipepuppy.com/api/?&q=salad'\n",
    "\n",
    "response = requests.get(url)\n",
    "salad = response.json()\n",
    "recetas_salad = salad['results']\n",
    "recipemachine5 = pd.DataFrame(recetas_salad)"
   ]
  },
  {
   "cell_type": "code",
   "execution_count": 7,
   "metadata": {},
   "outputs": [],
   "source": [
    "#Egg\n",
    "\n",
    "url = 'http://www.recipepuppy.com/api/?&q=egg'\n",
    "\n",
    "response = requests.get(url)\n",
    "egg = response.json()\n",
    "recetas_egg = egg['results']\n",
    "recipemachine6 = pd.DataFrame(recetas_egg)"
   ]
  },
  {
   "cell_type": "code",
   "execution_count": 8,
   "metadata": {},
   "outputs": [],
   "source": [
    "#Avocado\n",
    "\n",
    "url = 'http://www.recipepuppy.com/api/?&q=avocado'\n",
    "\n",
    "response = requests.get(url)\n",
    "avocado = response.json()\n",
    "recetas_avocado = avocado['results']\n",
    "recipemachine7 = pd.DataFrame(recetas_avocado)"
   ]
  },
  {
   "cell_type": "code",
   "execution_count": 9,
   "metadata": {},
   "outputs": [],
   "source": [
    "#Tofu\n",
    "\n",
    "url = 'http://www.recipepuppy.com/api/?&q=tofu'\n",
    "\n",
    "response = requests.get(url)\n",
    "tofu = response.json()\n",
    "recetas_tofu = tofu['results']\n",
    "recipemachine8 = pd.DataFrame(recetas_tofu)"
   ]
  },
  {
   "cell_type": "code",
   "execution_count": 10,
   "metadata": {},
   "outputs": [],
   "source": [
    "#Cordero\n",
    "\n",
    "url = 'http://www.recipepuppy.com/api/?&q=lamb'\n",
    "\n",
    "response = requests.get(url)\n",
    "lamb = response.json()\n",
    "recetas_lamb = lamb['results']\n",
    "recipemachine9 = pd.DataFrame(recetas_lamb)"
   ]
  },
  {
   "cell_type": "code",
   "execution_count": 11,
   "metadata": {},
   "outputs": [],
   "source": [
    "#Cerdo\n",
    "\n",
    "url = 'http://www.recipepuppy.com/api/?&q=pork'\n",
    "\n",
    "response = requests.get(url)\n",
    "cerdo = response.json()\n",
    "recetas_cerdo = cerdo['results']\n",
    "recipemachine10 = pd.DataFrame(recetas_cerdo)"
   ]
  },
  {
   "cell_type": "code",
   "execution_count": 12,
   "metadata": {},
   "outputs": [],
   "source": [
    "#Pollo\n",
    "\n",
    "url = 'http://www.recipepuppy.com/api/?&q=chicken'\n",
    "\n",
    "response = requests.get(url)\n",
    "pollo = response.json()\n",
    "recetas_pollo = pollo['results']\n",
    "recipemachine11 = pd.DataFrame(recetas_pollo)"
   ]
  },
  {
   "cell_type": "code",
   "execution_count": 13,
   "metadata": {},
   "outputs": [],
   "source": [
    "#Bacon\n",
    "\n",
    "url = 'http://www.recipepuppy.com/api/?&q=bacon'\n",
    "\n",
    "response = requests.get(url)\n",
    "bacon = response.json()\n",
    "recetas_bacon = bacon['results']\n",
    "recipemachine12 = pd.DataFrame(recetas_bacon)"
   ]
  },
  {
   "cell_type": "code",
   "execution_count": 14,
   "metadata": {},
   "outputs": [],
   "source": [
    "#Pavo\n",
    "\n",
    "url = 'http://www.recipepuppy.com/api/?&q=turkey'\n",
    "\n",
    "response = requests.get(url)\n",
    "pavo = response.json()\n",
    "recetas_pavo = pavo['results']\n",
    "recipemachine13 = pd.DataFrame(recetas_pavo)"
   ]
  },
  {
   "cell_type": "code",
   "execution_count": 15,
   "metadata": {},
   "outputs": [],
   "source": [
    "#Carne\n",
    "\n",
    "url = 'http://www.recipepuppy.com/api/?&q=meat'\n",
    "\n",
    "response = requests.get(url)\n",
    "carne = response.json()\n",
    "recetas_carne = carne['results']\n",
    "recipemachine14 = pd.DataFrame(recetas_carne)"
   ]
  },
  {
   "cell_type": "code",
   "execution_count": 16,
   "metadata": {},
   "outputs": [],
   "source": [
    "#Queso\n",
    "\n",
    "url = 'http://www.recipepuppy.com/api/?&q=cheese'\n",
    "\n",
    "response = requests.get(url)\n",
    "queso = response.json()\n",
    "recetas_queso = queso['results']\n",
    "recipemachine15 = pd.DataFrame(recetas_queso)"
   ]
  },
  {
   "cell_type": "code",
   "execution_count": 17,
   "metadata": {},
   "outputs": [],
   "source": [
    "#Vainilla\n",
    "\n",
    "url = 'http://www.recipepuppy.com/api/?&q=vanilla'\n",
    "\n",
    "response = requests.get(url)\n",
    "vanilla = response.json()\n",
    "recetas_vanilla = vanilla['results']\n",
    "recipemachine16 = pd.DataFrame(recetas_vanilla)"
   ]
  },
  {
   "cell_type": "code",
   "execution_count": 18,
   "metadata": {},
   "outputs": [],
   "source": [
    "#Fresa\n",
    "\n",
    "url = 'http://www.recipepuppy.com/api/?&q=strawberry'\n",
    "\n",
    "response = requests.get(url)\n",
    "fresa = response.json()\n",
    "recetas_fresa = fresa['results']\n",
    "recipemachine17 = pd.DataFrame(recetas_fresa)"
   ]
  },
  {
   "cell_type": "code",
   "execution_count": 19,
   "metadata": {},
   "outputs": [],
   "source": [
    "#Sandía\n",
    "\n",
    "url = 'http://www.recipepuppy.com/api/?&q=watermelon'\n",
    "\n",
    "response = requests.get(url)\n",
    "sandia = response.json()\n",
    "recetas_sandia = sandia['results']\n",
    "recipemachine18 = pd.DataFrame(recetas_sandia)"
   ]
  },
  {
   "cell_type": "code",
   "execution_count": 20,
   "metadata": {},
   "outputs": [],
   "source": [
    "#Manzana\n",
    "\n",
    "url = 'http://www.recipepuppy.com/api/?&q=apple'\n",
    "\n",
    "response = requests.get(url)\n",
    "apple = response.json()\n",
    "recetas_apple = apple['results']\n",
    "recipemachine19 = pd.DataFrame(recetas_apple)"
   ]
  },
  {
   "cell_type": "code",
   "execution_count": 21,
   "metadata": {},
   "outputs": [],
   "source": [
    "#Brocoli\n",
    "\n",
    "url = 'http://www.recipepuppy.com/api/?&q=broccoli'\n",
    "\n",
    "response = requests.get(url)\n",
    "brocoli = response.json()\n",
    "recetas_brocoli = brocoli['results']\n",
    "recipemachine20 = pd.DataFrame(recetas_brocoli)"
   ]
  },
  {
   "cell_type": "code",
   "execution_count": 22,
   "metadata": {},
   "outputs": [],
   "source": [
    "#Pasta\n",
    "\n",
    "url = 'http://www.recipepuppy.com/api/?&q=pasta'\n",
    "\n",
    "response = requests.get(url)\n",
    "pasta = response.json()\n",
    "recetas_pasta = pasta['results']\n",
    "recipemachine21 = pd.DataFrame(recetas_pasta)"
   ]
  },
  {
   "cell_type": "code",
   "execution_count": 25,
   "metadata": {},
   "outputs": [],
   "source": [
    "#Mi RecipeMachine sacada de API\n",
    "\n",
    "recipemachine = pd.concat([recipemachine1, recipemachine2, recipemachine3, recipemachine4, recipemachine5, recipemachine6, recipemachine7, recipemachine8, recipemachine9, recipemachine10, recipemachine11, recipemachine12, recipemachine13, recipemachine14, recipemachine15, recipemachine16, recipemachine17, recipemachine18, recipemachine19, recipemachine20, recipemachine21], axis=0)"
   ]
  },
  {
   "cell_type": "code",
   "execution_count": 26,
   "metadata": {},
   "outputs": [
    {
     "data": {
      "text/html": [
       "<div>\n",
       "<style scoped>\n",
       "    .dataframe tbody tr th:only-of-type {\n",
       "        vertical-align: middle;\n",
       "    }\n",
       "\n",
       "    .dataframe tbody tr th {\n",
       "        vertical-align: top;\n",
       "    }\n",
       "\n",
       "    .dataframe thead th {\n",
       "        text-align: right;\n",
       "    }\n",
       "</style>\n",
       "<table border=\"1\" class=\"dataframe\">\n",
       "  <thead>\n",
       "    <tr style=\"text-align: right;\">\n",
       "      <th></th>\n",
       "      <th>Recipe</th>\n",
       "      <th>Ingredients</th>\n",
       "      <th>Link to the whole recipe</th>\n",
       "    </tr>\n",
       "  </thead>\n",
       "  <tbody>\n",
       "    <tr>\n",
       "      <th>0</th>\n",
       "      <td>Vegetable-Pasta Oven Omelet</td>\n",
       "      <td>tomato, onions, red pepper, garlic, olive oil,...</td>\n",
       "      <td>http://find.myrecipes.com/recipes/recipefinder...</td>\n",
       "    </tr>\n",
       "    <tr>\n",
       "      <th>1</th>\n",
       "      <td>Roasted Pepper and Bacon Omelet</td>\n",
       "      <td>eggs, salt, black pepper, butter, black pepper...</td>\n",
       "      <td>http://www.bigoven.com/43919-Roasted-Pepper-an...</td>\n",
       "    </tr>\n",
       "    <tr>\n",
       "      <th>2</th>\n",
       "      <td>\\nBroccoli Oven Omelet Recipe\\n\\n</td>\n",
       "      <td>eggs, broccoli, onions, parmesan cheese, lowfa...</td>\n",
       "      <td>http://cookeatshare.com/recipes/broccoli-oven-...</td>\n",
       "    </tr>\n",
       "    <tr>\n",
       "      <th>3</th>\n",
       "      <td>Eggplant Omelet with Coriander and Caraway</td>\n",
       "      <td>caraway seed, coriander, eggplant, eggs, garli...</td>\n",
       "      <td>http://www.epicurious.com/recipes/food/views/E...</td>\n",
       "    </tr>\n",
       "    <tr>\n",
       "      <th>4</th>\n",
       "      <td>Eggplant Omelet with Coriander And Caraway</td>\n",
       "      <td>eggplant, olive oil, onions, garlic, egg, cara...</td>\n",
       "      <td>http://www.bigoven.com/143831-Eggplant-Omelet-...</td>\n",
       "    </tr>\n",
       "    <tr>\n",
       "      <th>5</th>\n",
       "      <td>Broccoli and Cheese Omelet</td>\n",
       "      <td>onions, garlic, chicken broth, cottage cheese,...</td>\n",
       "      <td>http://www.bigoven.com/45151-Broccoli-and-Chee...</td>\n",
       "    </tr>\n",
       "    <tr>\n",
       "      <th>6</th>\n",
       "      <td>Chard And Onion Omelet</td>\n",
       "      <td>olive oil, onions, leaves, garlic, eggs, parsl...</td>\n",
       "      <td>http://www.bigoven.com/149383-Chard-And-Onion-...</td>\n",
       "    </tr>\n",
       "    <tr>\n",
       "      <th>7</th>\n",
       "      <td>Picnic Omelet Squares Recipe</td>\n",
       "      <td>eggs, garlic, parmesan cheese, olive oil, onio...</td>\n",
       "      <td>http://www.cdkitchen.com/recipes/recs/2184/Pic...</td>\n",
       "    </tr>\n",
       "    <tr>\n",
       "      <th>8</th>\n",
       "      <td>Spanish Omelet</td>\n",
       "      <td>vegetable oil, green pepper, onions, water, mi...</td>\n",
       "      <td>http://www.cooks.com/rec/view/0,185,153160-249...</td>\n",
       "    </tr>\n",
       "    <tr>\n",
       "      <th>9</th>\n",
       "      <td>Onion and Fresh Herb Omelet with Mixed Greens</td>\n",
       "      <td>egg substitute, milk, parsley, thyme, salt, bl...</td>\n",
       "      <td>http://find.myrecipes.com/recipes/recipefinder...</td>\n",
       "    </tr>\n",
       "    <tr>\n",
       "      <th>0</th>\n",
       "      <td>Death by Chocolate Chocolate Chocolate Chocola...</td>\n",
       "      <td>baking soda, butter, eggs, flour, sugar, brown...</td>\n",
       "      <td>http://www.recipezaar.com/Death-by-Chocolate-C...</td>\n",
       "    </tr>\n",
       "  </tbody>\n",
       "</table>\n",
       "</div>"
      ],
      "text/plain": [
       "                                              Recipe  \\\n",
       "0                        Vegetable-Pasta Oven Omelet   \n",
       "1                    Roasted Pepper and Bacon Omelet   \n",
       "2                  \\nBroccoli Oven Omelet Recipe\\n\\n   \n",
       "3         Eggplant Omelet with Coriander and Caraway   \n",
       "4         Eggplant Omelet with Coriander And Caraway   \n",
       "5                         Broccoli and Cheese Omelet   \n",
       "6                             Chard And Onion Omelet   \n",
       "7                       Picnic Omelet Squares Recipe   \n",
       "8                                     Spanish Omelet   \n",
       "9      Onion and Fresh Herb Omelet with Mixed Greens   \n",
       "0  Death by Chocolate Chocolate Chocolate Chocola...   \n",
       "\n",
       "                                         Ingredients  \\\n",
       "0  tomato, onions, red pepper, garlic, olive oil,...   \n",
       "1  eggs, salt, black pepper, butter, black pepper...   \n",
       "2  eggs, broccoli, onions, parmesan cheese, lowfa...   \n",
       "3  caraway seed, coriander, eggplant, eggs, garli...   \n",
       "4  eggplant, olive oil, onions, garlic, egg, cara...   \n",
       "5  onions, garlic, chicken broth, cottage cheese,...   \n",
       "6  olive oil, onions, leaves, garlic, eggs, parsl...   \n",
       "7  eggs, garlic, parmesan cheese, olive oil, onio...   \n",
       "8  vegetable oil, green pepper, onions, water, mi...   \n",
       "9  egg substitute, milk, parsley, thyme, salt, bl...   \n",
       "0  baking soda, butter, eggs, flour, sugar, brown...   \n",
       "\n",
       "                            Link to the whole recipe  \n",
       "0  http://find.myrecipes.com/recipes/recipefinder...  \n",
       "1  http://www.bigoven.com/43919-Roasted-Pepper-an...  \n",
       "2  http://cookeatshare.com/recipes/broccoli-oven-...  \n",
       "3  http://www.epicurious.com/recipes/food/views/E...  \n",
       "4  http://www.bigoven.com/143831-Eggplant-Omelet-...  \n",
       "5  http://www.bigoven.com/45151-Broccoli-and-Chee...  \n",
       "6  http://www.bigoven.com/149383-Chard-And-Onion-...  \n",
       "7  http://www.cdkitchen.com/recipes/recs/2184/Pic...  \n",
       "8  http://www.cooks.com/rec/view/0,185,153160-249...  \n",
       "9  http://find.myrecipes.com/recipes/recipefinder...  \n",
       "0  http://www.recipezaar.com/Death-by-Chocolate-C...  "
      ]
     },
     "execution_count": 26,
     "metadata": {},
     "output_type": "execute_result"
    }
   ],
   "source": [
    "#Wrangling\n",
    "\n",
    "recipemachine = recipemachine.drop('thumbnail', axis=1)\n",
    "recipemachine = recipemachine.rename(columns={'href':'Link to the whole recipe',\n",
    "                            'ingredients':'Ingredients', 'title': 'Recipe'})\n",
    "column_order = ['Recipe', 'Ingredients', 'Link to the whole recipe']\n",
    "\n",
    "recipemachine = recipemachine[column_order]\n",
    "recipemachine.head(11)"
   ]
  },
  {
   "cell_type": "code",
   "execution_count": null,
   "metadata": {},
   "outputs": [],
   "source": []
  }
 ],
 "metadata": {
  "kernelspec": {
   "display_name": "Python 3",
   "language": "python",
   "name": "python3"
  },
  "language_info": {
   "codemirror_mode": {
    "name": "ipython",
    "version": 3
   },
   "file_extension": ".py",
   "mimetype": "text/x-python",
   "name": "python",
   "nbconvert_exporter": "python",
   "pygments_lexer": "ipython3",
   "version": "3.7.2"
  }
 },
 "nbformat": 4,
 "nbformat_minor": 2
}
