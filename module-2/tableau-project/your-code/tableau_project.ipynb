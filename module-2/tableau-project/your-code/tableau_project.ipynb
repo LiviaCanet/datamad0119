{
 "cells": [
  {
   "cell_type": "markdown",
   "metadata": {},
   "source": [
    "# Tableau Project - Videogame Co.\n",
    "\n",
    "## Where do we open our new office?"
   ]
  },
  {
   "cell_type": "markdown",
   "metadata": {},
   "source": [
    "### Instrucciones\n",
    "#### Somos una compañía de Videogames de 50 empleados. Tenemos que abrir una oficina nueva, pero, ¿dónde?\n",
    "#### Contamos con 20 desarrolladores, 20 UX/UI y 10 ejecutivos.\n",
    "#### Tiene que haber alrededor:\n",
    "#### 1-. Compañías de Software\n",
    "#### 2-. Buen ratio entre grades compañías y start-ups\n",
    "#### 3-. Empresas de diseño, diseño web, relacionado con UX\n",
    "#### 4-. Restaurantes para que los ejecutivos puedan reunirse y hacer negocios \n",
    "#### 5-. Evitar compañías muy viejas alrededor\n",
    "\n",
    "### Variables interesantes que mirar\n",
    "#### Total money raised (inversiones), competitors, latitud y longitud de oficinas, tweeter (influencia de la empresa, API tweety), cathegory code"
   ]
  },
  {
   "cell_type": "code",
   "execution_count": null,
   "metadata": {},
   "outputs": [],
   "source": []
  }
 ],
 "metadata": {
  "kernelspec": {
   "display_name": "Python 3",
   "language": "python",
   "name": "python3"
  },
  "language_info": {
   "codemirror_mode": {
    "name": "ipython",
    "version": 3
   },
   "file_extension": ".py",
   "mimetype": "text/x-python",
   "name": "python",
   "nbconvert_exporter": "python",
   "pygments_lexer": "ipython3",
   "version": "3.7.2"
  }
 },
 "nbformat": 4,
 "nbformat_minor": 2
}
