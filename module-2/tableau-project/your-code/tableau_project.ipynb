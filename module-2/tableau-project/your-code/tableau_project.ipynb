{
 "cells": [
  {
   "cell_type": "markdown",
   "metadata": {},
   "source": [
    "# Tableau Project - Videogame Co.\n",
    "\n",
    "## Where do we open our new office?"
   ]
  },
  {
   "cell_type": "markdown",
   "metadata": {},
   "source": [
    "### Instrucciones\n",
    "#### Somos una compañía de Videogames de 50 empleados. Tenemos que abrir una oficina nueva, pero, ¿dónde?\n",
    "#### Contamos con 20 desarrolladores, 20 UX/UI y 10 ejecutivos.\n",
    "#### Tiene que haber alrededor:\n",
    "#### 1-. Compañías de Software\n",
    "#### 2-. Buen ratio entre grades compañías y start-ups\n",
    "#### 3-. Empresas de diseño, diseño web, relacionado con UX\n",
    "#### 4-. Restaurantes para que los ejecutivos puedan reunirse y hacer negocios \n",
    "#### 5-. Evitar compañías muy viejas alrededor\n",
    "\n",
    "### Variables interesantes que mirar\n",
    "#### Total money raised (inversiones), competitors, latitud y longitud de oficinas, twitter (influencia de la empresa, API tweety), cathegory code"
   ]
  },
  {
   "cell_type": "code",
   "execution_count": 58,
   "metadata": {},
   "outputs": [],
   "source": [
    "import re\n",
    "import pandas as pd\n",
    "import pymongo\n",
    "MongoClient = pymongo.MongoClient\n",
    "client = MongoClient()\n",
    "db = client.companies"
   ]
  },
  {
   "cell_type": "code",
   "execution_count": null,
   "metadata": {},
   "outputs": [],
   "source": [
    "def toGeoJSON(array):\n",
    "    return {\n",
    "        \"type\":\"Point\",\n",
    "        \"coordinates\":[array[0],array[1]]\n",
    "    }\n",
    "\n",
    "def convertOffice(companies):\n",
    "    return {\n",
    "        \"name\": companies[\"name\"],\n",
    "        \"cuisine\": companies[\"cuisine\"],\n",
    "        \"position\": toGeoJSON(companies[\"address\"][\"coord\"])\n",
    "    }\n",
    "\n",
    "cursor = db.restaurants.find({\"address.coord\":{\"$size\":2}},{\"_id\":0})\n",
    "geoRestaurants = list(map(lambda r: convertRestaurant(r),cursor))"
   ]
  },
  {
   "cell_type": "code",
   "execution_count": null,
   "metadata": {},
   "outputs": [],
   "source": [
    "{offices: {$size: 0},category_code: 'web'}"
   ]
  },
  {
   "cell_type": "code",
   "execution_count": 59,
   "metadata": {},
   "outputs": [],
   "source": [
    "# Para evitar compañías viejas alrededor, vamos a considerar qué es una compañía vieja, respondiendo a: ¿En qué año se fundaron\n",
    "# las compañías más importantes de tecnología hoy en día? Google en el 1998, Intel 1968, Microsoft 1975, Apple 1976\n",
    "# Tenemos en cuenta las compañías más importantes, ordenadas por valuation amount descending.\n",
    "\n",
    "#Primero preguntamos a mongo por 1000 compañías de Software para sacar su lat y long.\n",
    "#Software Co\n",
    "\n",
    "cursor1 = db.companies.find({\"$and\": [{\"category_code\": 'software'}, {\"offices.latitude\": {\"$not\": re.compile(\"^N.*\")}}, {\"founded_year\": {\"$gte\": 1965}} ]}).sort(\"ipo.valuation_amount\", pymongo.DESCENDING).limit(1000)\n",
    "\n",
    "software_co = list(map(lambda x: [x[\"name\"], x[\"offices\"]], list(cursor1)))\n",
    "\n",
    "software = pd.DataFrame(software_co)"
   ]
  },
  {
   "cell_type": "code",
   "execution_count": 60,
   "metadata": {},
   "outputs": [],
   "source": [
    "#También preguntamos a mongo por 500 compañías de Mobile para sacar su lat y long, nos interesa tener empresas de movil cerca para sacar videojuegos en el movil.\n",
    "#Mobile Co\n",
    "\n",
    "cursor2 = db.companies.find({\"$and\": [{\"category_code\": 'mobile'}, {\"offices.latitude\": {\"$not\": re.compile(\"^N.*\")}}, {\"founded_year\": {\"$gte\": 1965}} ]}).sort(\"ipo.valuation_amount\", pymongo.DESCENDING).limit(500)\n",
    "\n",
    "mobile_co = list(map(lambda x: [x[\"name\"], x[\"offices\"]], list(cursor2)))\n",
    "\n",
    "mobile = pd.DataFrame(mobile_co)"
   ]
  },
  {
   "cell_type": "code",
   "execution_count": 61,
   "metadata": {},
   "outputs": [],
   "source": [
    "#También nos interesa saber dónde está la competencia, ya que significa que hay mercado en esa zona. \n",
    "#Preguntamos a mongo por 1000 compañías de VideoGames para sacar su lat y long.\n",
    "#VideoGames Co\n",
    "\n",
    "cursor3 = db.companies.find({\"$and\": [{\"category_code\": 'games_video'}, {\"offices.latitude\": {\"$not\": re.compile(\"^N.*\")}}, {\"founded_year\": {\"$gte\": 1965}} ]}).sort(\"ipo.valuation_amount\", pymongo.DESCENDING).limit(1000)\n",
    "\n",
    "gamesvideo_co = list(map(lambda x: [x[\"name\"], x[\"offices\"]], list(cursor3)))\n",
    "\n",
    "gamesvideo = pd.DataFrame(gamesvideo_co)\n"
   ]
  },
  {
   "cell_type": "code",
   "execution_count": 62,
   "metadata": {},
   "outputs": [
    {
     "data": {
      "text/html": [
       "<div>\n",
       "<style scoped>\n",
       "    .dataframe tbody tr th:only-of-type {\n",
       "        vertical-align: middle;\n",
       "    }\n",
       "\n",
       "    .dataframe tbody tr th {\n",
       "        vertical-align: top;\n",
       "    }\n",
       "\n",
       "    .dataframe thead th {\n",
       "        text-align: right;\n",
       "    }\n",
       "</style>\n",
       "<table border=\"1\" class=\"dataframe\">\n",
       "  <thead>\n",
       "    <tr style=\"text-align: right;\">\n",
       "      <th></th>\n",
       "      <th>0</th>\n",
       "      <th>1</th>\n",
       "    </tr>\n",
       "  </thead>\n",
       "  <tbody>\n",
       "    <tr>\n",
       "      <th>0</th>\n",
       "      <td>BMC SoftwareMixiGREE</td>\n",
       "      <td>[{'description': '', 'address1': '2101 City We...</td>\n",
       "    </tr>\n",
       "    <tr>\n",
       "      <th>1</th>\n",
       "      <td>RackspaceTelenavTudou</td>\n",
       "      <td>[{'description': 'HQ', 'address1': '5000 Walze...</td>\n",
       "    </tr>\n",
       "    <tr>\n",
       "      <th>2</th>\n",
       "      <td>Jive SoftwareMeru NetworksDeNA</td>\n",
       "      <td>[{'description': 'Palo Alto HQ', 'address1': '...</td>\n",
       "    </tr>\n",
       "    <tr>\n",
       "      <th>3</th>\n",
       "      <td>QlikTechHelioDeNA</td>\n",
       "      <td>[{'description': 'World Headquarters', 'addres...</td>\n",
       "    </tr>\n",
       "    <tr>\n",
       "      <th>4</th>\n",
       "      <td>Cornerstone OnDemandJingle NetworksJoost</td>\n",
       "      <td>[{'description': 'Headquarters', 'address1': '...</td>\n",
       "    </tr>\n",
       "  </tbody>\n",
       "</table>\n",
       "</div>"
      ],
      "text/plain": [
       "                                          0  \\\n",
       "0                      BMC SoftwareMixiGREE   \n",
       "1                     RackspaceTelenavTudou   \n",
       "2            Jive SoftwareMeru NetworksDeNA   \n",
       "3                         QlikTechHelioDeNA   \n",
       "4  Cornerstone OnDemandJingle NetworksJoost   \n",
       "\n",
       "                                                   1  \n",
       "0  [{'description': '', 'address1': '2101 City We...  \n",
       "1  [{'description': 'HQ', 'address1': '5000 Walze...  \n",
       "2  [{'description': 'Palo Alto HQ', 'address1': '...  \n",
       "3  [{'description': 'World Headquarters', 'addres...  \n",
       "4  [{'description': 'Headquarters', 'address1': '...  "
      ]
     },
     "execution_count": 62,
     "metadata": {},
     "output_type": "execute_result"
    }
   ],
   "source": [
    "cos = software + mobile + gamesvideo\n",
    "cos.head()"
   ]
  },
  {
   "cell_type": "code",
   "execution_count": null,
   "metadata": {},
   "outputs": [],
   "source": []
  }
 ],
 "metadata": {
  "kernelspec": {
   "display_name": "Python 3",
   "language": "python",
   "name": "python3"
  },
  "language_info": {
   "codemirror_mode": {
    "name": "ipython",
    "version": 3
   },
   "file_extension": ".py",
   "mimetype": "text/x-python",
   "name": "python",
   "nbconvert_exporter": "python",
   "pygments_lexer": "ipython3",
   "version": "3.7.2"
  }
 },
 "nbformat": 4,
 "nbformat_minor": 2
}
