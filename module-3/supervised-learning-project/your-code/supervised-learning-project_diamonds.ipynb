{
 "cells": [
  {
   "cell_type": "markdown",
   "metadata": {},
   "source": [
    "# Supervised-Learning-Project"
   ]
  },
  {
   "cell_type": "markdown",
   "metadata": {},
   "source": [
    "### Instructions"
   ]
  },
  {
   "cell_type": "markdown",
   "metadata": {},
   "source": [
    "- Analisis exploratorio del dataset, cuantos datos hay. Is your dataset balanced? What is the balance between classes?\n",
    "\n",
    "- Multiples clases mutuamente excluyentes: usar 'one versus rest' classifier de entrenamiento\n",
    "\n",
    "- Balanced accuracy score (ponderado por la distribucion de las clases en el dataset): \n",
    "    - from sklearn.metrics import balanced_accuracy_score \n",
    "    - score = balanced_accuracy_score(actual_values, predictions)\n",
    "    - from sklearn.metrics import accuracy_score \n",
    "    - score = accuracy_score(actual_values, predictions)\n",
    "\n",
    "- Accuracy\n",
    "\n",
    "- Recall & Precision\n",
    "\n",
    "- F-score\n",
    "\n",
    "- Roc curve (comparativa) con su AUC\n",
    "\n",
    "- Confussion matrix (norm & not normalized)\n",
    "\n",
    "- KNN\n",
    "\n",
    "- Voronoir Diagram\n",
    "\n",
    "-----------------------\n",
    "KNN (K Near Neighbours)\n",
    "\n",
    "k = 3, los 3 puntos más cercanos a un punto.\n",
    "\n",
    "para decidir la clasificación de un punto, se cogen los k = 3 más cercanos y se calcula la moda entre ellos, (si dos son negros y uno es blanco, la moda es negro)\n",
    "el punto en cuestion sería negro. La k no puede ser gigante porque predecir sería muy costoso en tiempo. Se usan la distancia L1 y L2 (L2 es distancia Euclidea)\n",
    "No funciona muy bien si  quieres implementarlo para un caso muy específico (Si no tienes muchos ejemplos de ese caso específico, te lo va a predecir mal) hay que tener un buen balance de datos\n",
    "El recommender system es muy parecido a esto, hace algo así\n",
    "    - from sklearn.neighbors import KNeighborsClassifier"
   ]
  },
  {
   "cell_type": "code",
   "execution_count": null,
   "metadata": {},
   "outputs": [],
   "source": []
  }
 ],
 "metadata": {
  "kernelspec": {
   "display_name": "Python 3",
   "language": "python",
   "name": "python3"
  },
  "language_info": {
   "codemirror_mode": {
    "name": "ipython",
    "version": 3
   },
   "file_extension": ".py",
   "mimetype": "text/x-python",
   "name": "python",
   "nbconvert_exporter": "python",
   "pygments_lexer": "ipython3",
   "version": "3.7.2"
  }
 },
 "nbformat": 4,
 "nbformat_minor": 2
}
